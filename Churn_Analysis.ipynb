{
 "cells": [
  {
   "cell_type": "code",
   "execution_count": null,
   "id": "ee0a3cbc-ea09-4f47-9637-3bf2fcf75913",
   "metadata": {},
   "outputs": [
    {
     "name": "stdout",
     "output_type": "stream",
     "text": [
      "classification Report\n",
      "              precision    recall  f1-score   support\n",
      "\n",
      "           0       0.82      0.91      0.86      1033\n",
      "           1       0.64      0.46      0.53       374\n",
      "\n",
      "    accuracy                           0.79      1407\n",
      "   macro avg       0.73      0.68      0.70      1407\n",
      "weighted avg       0.77      0.79      0.77      1407\n",
      "\n",
      "confusion Matrix\n",
      "[[935  98]\n",
      " [203 171]]\n",
      "Segment\n",
      "Dormant    4905\n",
      "Loyal      1576\n",
      "At Risk     551\n",
      "Name: count, dtype: int64\n",
      "Segmented data saved to 'Telco_Customer_Churn_Segmented.csv'\n"
     ]
    }
   ],
   "source": [
    "#Load and Explore data\n",
    "import pandas as pd # type: ignore\n",
    "\n",
    "df= pd.read_csv(r\"C:\\Users\\sarvesh\\OneDrive\\文档\\Desktop\\Telo_customer_churn.csv\")\n",
    "df.head()\n",
    "df.isnull().sum()\n",
    "\n",
    "#data preprocessing\n",
    "df.drop('customerID',axis=1, inplace=True)\n",
    "df['TotalCharges']= pd.to_numeric(df['TotalCharges'], errors='coerce')\n",
    "df.dropna(inplace=True)\n",
    "from sklearn.preprocessing import LabelEncoder # type: ignore\n",
    "categorical_cols = df.select_dtypes(include=['object']).columns\n",
    "for col in categorical_cols:\n",
    "    le = LabelEncoder()\n",
    "    df[col] = le.fit_transform(df[col])\n",
    "\n",
    "#feature scaling\n",
    "from sklearn.preprocessing import StandardScaler # type: ignore\n",
    "x= df.drop('Churn', axis=1)\n",
    "y= df['Churn']\n",
    "scaler= StandardScaler()\n",
    "x_scaled= scaler.fit_transform(x)\n",
    "\n",
    "#Model Training\n",
    "from sklearn.model_selection import train_test_split # type: ignore\n",
    "from sklearn.ensemble import RandomForestClassifier # type: ignore\n",
    "from sklearn.metrics import classification_report, confusion_matrix # type: ignore\n",
    "x_train, x_test, y_train, y_test= train_test_split(x_scaled, y, test_size=0.2, random_state=42)\n",
    "model= RandomForestClassifier(random_state=42)\n",
    "model.fit(x_train, y_train)\n",
    "y_pred= model.predict(x_test)\n",
    "print(\"classification Report\")\n",
    "print(classification_report(y_test, y_pred))\n",
    "print(\"confusion Matrix\")\n",
    "print(confusion_matrix(y_test, y_pred))\n",
    "\n",
    "#customer segmentation\n",
    "df['Prediction'] = model.predict(x_scaled)\n",
    "def segment_customer(row):\n",
    "    if row['Prediction'] == 1 and row['MonthlyCharges'] > df['MonthlyCharges'].quantile(0.75):\n",
    "        return 'At Risk'\n",
    "    elif row['Prediction'] == 0 and row['MonthlyCharges'] < df['MonthlyCharges'].quantile(0.25):\n",
    "        return 'Loyal'\n",
    "    else:\n",
    "        return 'Dormant'\n",
    "df['Segment'] = df.apply(segment_customer, axis=1)\n",
    "print(df['Segment'].value_counts())\n",
    "\n",
    "# Save the final dataframe to a CSV file\n",
    "df.to_csv('Telco_Customer_Churn_Segmented.csv', index=False)\n",
    "print(\"Segmented data saved to 'Telco_Customer_Churn_Segmented.csv'\")\n",
    "\n",
    "\n",
    "\n",
    "\n"
   ]
  }
 ],
 "metadata": {
  "kernelspec": {
   "display_name": "Python 3",
   "language": "python",
   "name": "python3"
  },
  "language_info": {
   "codemirror_mode": {
    "name": "ipython",
    "version": 3
   },
   "file_extension": ".py",
   "mimetype": "text/x-python",
   "name": "python",
   "nbconvert_exporter": "python",
   "pygments_lexer": "ipython3",
   "version": "3.13.3"
  }
 },
 "nbformat": 4,
 "nbformat_minor": 5
}
